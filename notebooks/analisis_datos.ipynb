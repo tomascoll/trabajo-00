{
 "cells": [
  {
   "cell_type": "code",
   "execution_count": 5,
   "id": "b599a048",
   "metadata": {},
   "outputs": [
    {
     "name": "stdout",
     "output_type": "stream",
     "text": [
      "Collecting matplotlib\n",
      "  Downloading matplotlib-3.10.5-cp313-cp313-win_amd64.whl.metadata (11 kB)\n",
      "Collecting contourpy>=1.0.1 (from matplotlib)\n",
      "  Downloading contourpy-1.3.3-cp313-cp313-win_amd64.whl.metadata (5.5 kB)\n",
      "Collecting cycler>=0.10 (from matplotlib)\n",
      "  Downloading cycler-0.12.1-py3-none-any.whl.metadata (3.8 kB)\n",
      "Collecting fonttools>=4.22.0 (from matplotlib)\n",
      "  Downloading fonttools-4.59.1-cp313-cp313-win_amd64.whl.metadata (111 kB)\n",
      "Collecting kiwisolver>=1.3.1 (from matplotlib)\n",
      "  Downloading kiwisolver-1.4.9-cp313-cp313-win_amd64.whl.metadata (6.4 kB)\n",
      "Requirement already satisfied: numpy>=1.23 in c:\\users\\tomas\\onedrive\\desktop\\tp00\\.venv\\lib\\site-packages (from matplotlib) (2.3.2)\n",
      "Requirement already satisfied: packaging>=20.0 in c:\\users\\tomas\\onedrive\\desktop\\tp00\\.venv\\lib\\site-packages (from matplotlib) (25.0)\n",
      "Collecting pillow>=8 (from matplotlib)\n",
      "  Downloading pillow-11.3.0-cp313-cp313-win_amd64.whl.metadata (9.2 kB)\n",
      "Collecting pyparsing>=2.3.1 (from matplotlib)\n",
      "  Downloading pyparsing-3.2.3-py3-none-any.whl.metadata (5.0 kB)\n",
      "Requirement already satisfied: python-dateutil>=2.7 in c:\\users\\tomas\\onedrive\\desktop\\tp00\\.venv\\lib\\site-packages (from matplotlib) (2.9.0.post0)\n",
      "Requirement already satisfied: six>=1.5 in c:\\users\\tomas\\onedrive\\desktop\\tp00\\.venv\\lib\\site-packages (from python-dateutil>=2.7->matplotlib) (1.17.0)\n",
      "Downloading matplotlib-3.10.5-cp313-cp313-win_amd64.whl (8.1 MB)\n",
      "   ---------------------------------------- 0.0/8.1 MB ? eta -:--:--\n",
      "   --------------------------------- ------ 6.8/8.1 MB 37.6 MB/s eta 0:00:01\n",
      "   ---------------------------------------- 8.1/8.1 MB 31.7 MB/s  0:00:00\n",
      "Downloading contourpy-1.3.3-cp313-cp313-win_amd64.whl (226 kB)\n",
      "Downloading cycler-0.12.1-py3-none-any.whl (8.3 kB)\n",
      "Downloading fonttools-4.59.1-cp313-cp313-win_amd64.whl (2.3 MB)\n",
      "   ---------------------------------------- 0.0/2.3 MB ? eta -:--:--\n",
      "   ---------------------------------------- 2.3/2.3 MB 29.1 MB/s  0:00:00\n",
      "Downloading kiwisolver-1.4.9-cp313-cp313-win_amd64.whl (73 kB)\n",
      "Downloading pillow-11.3.0-cp313-cp313-win_amd64.whl (7.0 MB)\n",
      "   ---------------------------------------- 0.0/7.0 MB ? eta -:--:--\n",
      "   ---------------------------------------  6.8/7.0 MB 38.7 MB/s eta 0:00:01\n",
      "   ---------------------------------------- 7.0/7.0 MB 32.9 MB/s  0:00:00\n",
      "Downloading pyparsing-3.2.3-py3-none-any.whl (111 kB)\n",
      "Installing collected packages: pyparsing, pillow, kiwisolver, fonttools, cycler, contourpy, matplotlib\n",
      "\n",
      "   ---------------------------------------- 0/7 [pyparsing]\n",
      "   ----- ---------------------------------- 1/7 [pillow]\n",
      "   ----- ---------------------------------- 1/7 [pillow]\n",
      "   ----- ---------------------------------- 1/7 [pillow]\n",
      "   ----- ---------------------------------- 1/7 [pillow]\n",
      "   ----- ---------------------------------- 1/7 [pillow]\n",
      "   ----- ---------------------------------- 1/7 [pillow]\n",
      "   ----- ---------------------------------- 1/7 [pillow]\n",
      "   ----- ---------------------------------- 1/7 [pillow]\n",
      "   ----- ---------------------------------- 1/7 [pillow]\n",
      "   ----------------- ---------------------- 3/7 [fonttools]\n",
      "   ----------------- ---------------------- 3/7 [fonttools]\n",
      "   ----------------- ---------------------- 3/7 [fonttools]\n",
      "   ----------------- ---------------------- 3/7 [fonttools]\n",
      "   ----------------- ---------------------- 3/7 [fonttools]\n",
      "   ----------------- ---------------------- 3/7 [fonttools]\n",
      "   ----------------- ---------------------- 3/7 [fonttools]\n",
      "   ----------------- ---------------------- 3/7 [fonttools]\n",
      "   ----------------- ---------------------- 3/7 [fonttools]\n",
      "   ----------------- ---------------------- 3/7 [fonttools]\n",
      "   ----------------- ---------------------- 3/7 [fonttools]\n",
      "   ----------------- ---------------------- 3/7 [fonttools]\n",
      "   ----------------- ---------------------- 3/7 [fonttools]\n",
      "   ----------------- ---------------------- 3/7 [fonttools]\n",
      "   ----------------- ---------------------- 3/7 [fonttools]\n",
      "   ----------------- ---------------------- 3/7 [fonttools]\n",
      "   ----------------- ---------------------- 3/7 [fonttools]\n",
      "   ----------------- ---------------------- 3/7 [fonttools]\n",
      "   ----------------- ---------------------- 3/7 [fonttools]\n",
      "   ----------------- ---------------------- 3/7 [fonttools]\n",
      "   ----------------- ---------------------- 3/7 [fonttools]\n",
      "   ----------------- ---------------------- 3/7 [fonttools]\n",
      "   ----------------- ---------------------- 3/7 [fonttools]\n",
      "   ----------------- ---------------------- 3/7 [fonttools]\n",
      "   ----------------- ---------------------- 3/7 [fonttools]\n",
      "   ----------------- ---------------------- 3/7 [fonttools]\n",
      "   ----------------- ---------------------- 3/7 [fonttools]\n",
      "   ----------------- ---------------------- 3/7 [fonttools]\n",
      "   ----------------- ---------------------- 3/7 [fonttools]\n",
      "   ----------------- ---------------------- 3/7 [fonttools]\n",
      "   ---------------------------- ----------- 5/7 [contourpy]\n",
      "   ---------------------------- ----------- 5/7 [contourpy]\n",
      "   ---------------------------------- ----- 6/7 [matplotlib]\n",
      "   ---------------------------------- ----- 6/7 [matplotlib]\n",
      "   ---------------------------------- ----- 6/7 [matplotlib]\n",
      "   ---------------------------------- ----- 6/7 [matplotlib]\n",
      "   ---------------------------------- ----- 6/7 [matplotlib]\n",
      "   ---------------------------------- ----- 6/7 [matplotlib]\n",
      "   ---------------------------------- ----- 6/7 [matplotlib]\n",
      "   ---------------------------------- ----- 6/7 [matplotlib]\n",
      "   ---------------------------------- ----- 6/7 [matplotlib]\n",
      "   ---------------------------------- ----- 6/7 [matplotlib]\n",
      "   ---------------------------------- ----- 6/7 [matplotlib]\n",
      "   ---------------------------------- ----- 6/7 [matplotlib]\n",
      "   ---------------------------------- ----- 6/7 [matplotlib]\n",
      "   ---------------------------------- ----- 6/7 [matplotlib]\n",
      "   ---------------------------------- ----- 6/7 [matplotlib]\n",
      "   ---------------------------------- ----- 6/7 [matplotlib]\n",
      "   ---------------------------------- ----- 6/7 [matplotlib]\n",
      "   ---------------------------------- ----- 6/7 [matplotlib]\n",
      "   ---------------------------------- ----- 6/7 [matplotlib]\n",
      "   ---------------------------------- ----- 6/7 [matplotlib]\n",
      "   ---------------------------------- ----- 6/7 [matplotlib]\n",
      "   ---------------------------------- ----- 6/7 [matplotlib]\n",
      "   ---------------------------------- ----- 6/7 [matplotlib]\n",
      "   ---------------------------------- ----- 6/7 [matplotlib]\n",
      "   ---------------------------------- ----- 6/7 [matplotlib]\n",
      "   ---------------------------------- ----- 6/7 [matplotlib]\n",
      "   ---------------------------------- ----- 6/7 [matplotlib]\n",
      "   ---------------------------------- ----- 6/7 [matplotlib]\n",
      "   ---------------------------------- ----- 6/7 [matplotlib]\n",
      "   ---------------------------------- ----- 6/7 [matplotlib]\n",
      "   ---------------------------------- ----- 6/7 [matplotlib]\n",
      "   ---------------------------------- ----- 6/7 [matplotlib]\n",
      "   ---------------------------------- ----- 6/7 [matplotlib]\n",
      "   ---------------------------------- ----- 6/7 [matplotlib]\n",
      "   ---------------------------------- ----- 6/7 [matplotlib]\n",
      "   ---------------------------------- ----- 6/7 [matplotlib]\n",
      "   ---------------------------------- ----- 6/7 [matplotlib]\n",
      "   ---------------------------------- ----- 6/7 [matplotlib]\n",
      "   ---------------------------------- ----- 6/7 [matplotlib]\n",
      "   ---------------------------------- ----- 6/7 [matplotlib]\n",
      "   ---------------------------------------- 7/7 [matplotlib]\n",
      "\n",
      "Successfully installed contourpy-1.3.3 cycler-0.12.1 fonttools-4.59.1 kiwisolver-1.4.9 matplotlib-3.10.5 pillow-11.3.0 pyparsing-3.2.3\n"
     ]
    }
   ],
   "source": [
    "!pip install matplotlib"
   ]
  },
  {
   "cell_type": "markdown",
   "id": "3521cc29",
   "metadata": {},
   "source": [
    "## Preguntas obligatorias"
   ]
  },
  {
   "cell_type": "code",
   "execution_count": 9,
   "id": "368a2c9c",
   "metadata": {},
   "outputs": [
    {
     "data": {
      "application/vnd.microsoft.datawrangler.viewer.v0+json": {
       "columns": [
        {
         "name": "index",
         "rawType": "int64",
         "type": "integer"
        },
        {
         "name": "idRecorrido",
         "rawType": "int64",
         "type": "integer"
        },
        {
         "name": "duracionRecorrido",
         "rawType": "int64",
         "type": "integer"
        },
        {
         "name": "fechaOrigenRecorrido",
         "rawType": "object",
         "type": "string"
        },
        {
         "name": "idEstacionOrigen",
         "rawType": "int64",
         "type": "integer"
        },
        {
         "name": "nombreEstacionOrigen",
         "rawType": "object",
         "type": "string"
        },
        {
         "name": "direccionEstacionOrigen",
         "rawType": "object",
         "type": "string"
        },
        {
         "name": "longEstacionOrigen",
         "rawType": "float64",
         "type": "float"
        },
        {
         "name": "latEstacionOrigen",
         "rawType": "float64",
         "type": "float"
        },
        {
         "name": "fechaDestinoRecorrido",
         "rawType": "object",
         "type": "string"
        },
        {
         "name": "idEstacionDestino",
         "rawType": "int64",
         "type": "integer"
        },
        {
         "name": "nombreEstacionDestino",
         "rawType": "object",
         "type": "string"
        },
        {
         "name": "direccionEstacionDestino",
         "rawType": "object",
         "type": "string"
        },
        {
         "name": "longEstacionDestino",
         "rawType": "float64",
         "type": "float"
        },
        {
         "name": "latEstacionDestino",
         "rawType": "float64",
         "type": "float"
        },
        {
         "name": "idUsuario",
         "rawType": "float64",
         "type": "float"
        },
        {
         "name": "modeloBicicleta",
         "rawType": "object",
         "type": "string"
        },
        {
         "name": "genero",
         "rawType": "object",
         "type": "string"
        },
        {
         "name": "generoUsuario",
         "rawType": "object",
         "type": "unknown"
        },
        {
         "name": "edadUsuario",
         "rawType": "float64",
         "type": "float"
        },
        {
         "name": "fechaAlta",
         "rawType": "object",
         "type": "unknown"
        },
        {
         "name": "horaAlta",
         "rawType": "object",
         "type": "unknown"
        },
        {
         "name": "duracion_horas_minutos",
         "rawType": "object",
         "type": "string"
        },
        {
         "name": "duracion_viaje_minutos",
         "rawType": "object",
         "type": "string"
        }
       ],
       "ref": "731e780f-8375-4cc1-97f9-28bfaa10071f",
       "rows": [
        [
         "0",
         "22751201",
         "2",
         "2024-08-24 12:37:54",
         "548",
         "051 - PLAZA SUDAMERICA",
         "Av. Piedrabuena 4901",
         "-58.475178",
         "-34.687767",
         "2024-08-24 12:37:56",
         "548",
         "051 - PLAZA SUDAMERICA",
         "Av. Piedrabuena 4901",
         "-58.475178",
         "-34.687767",
         "1195811.0",
         "ICONIC",
         "MALE",
         "MALE",
         "44.0",
         "2024-08-24",
         "12:32:34",
         "0h 2m",
         "0h 2m"
        ],
        [
         "1",
         "22526638",
         "1350",
         "2024-08-02 01:29:21",
         "46",
         "046 - Chile",
         "Perú 718",
         "-58.37436969999998",
         "-34.6163729",
         "2024-08-02 01:51:51",
         "223",
         "178 - José Marmol",
         "803 José Marmol",
         "-58.424853",
         "-34.6234",
         "1126622.0",
         "FIT",
         "FEMALE",
         "FEMALE",
         "22.0",
         "2024-03-11",
         "00:53:54",
         "22h 30m",
         "22h 30m"
        ],
        [
         "2",
         "22527526",
         "1398",
         "2024-08-02 07:26:40",
         "408",
         "364 - CERRETTI Y MANUELA PEDRAZA",
         "Ceretti 3407",
         "-58.50025",
         "-34.56912",
         "2024-08-02 07:49:58",
         "513",
         "308 - SAN MARTIN II",
         "Av. San Martín 5129",
         "-58.490739000000005",
         "-34.5971297",
         "569548.0",
         "FIT",
         "MALE",
         null,
         null,
         null,
         null,
         "23h 18m",
         "23h 18m"
        ],
        [
         "3",
         "22517654",
         "491",
         "2024-08-01 12:51:39",
         "368",
         "378 - AGRONOMIA",
         "4351 San Martin",
         "-58.482079",
         "-34.59807",
         "2024-08-01 12:59:50",
         "241",
         "348 - Villa del Parque",
         "Gutierrez, Ricardo 3105",
         "-58.494123",
         "-34.600874",
         "569548.0",
         "ICONIC",
         "MALE",
         null,
         null,
         null,
         null,
         "8h 11m",
         "8h 11m"
        ],
        [
         "4",
         "22524071",
         "1642",
         "2024-08-01 19:12:28",
         "385",
         "268 - Plaza Aristóbulo Del Valle",
         "Campana & Marcos Sastre  ",
         "-58.49314134520765",
         "-34.606159914753725",
         "2024-08-01 19:39:50",
         "408",
         "364 - CERRETTI Y MANUELA PEDRAZA",
         "Ceretti 3407",
         "-58.50025",
         "-34.56912",
         "569548.0",
         "FIT",
         "MALE",
         null,
         null,
         null,
         null,
         "27h 22m",
         "27h 22m"
        ]
       ],
       "shape": {
        "columns": 23,
        "rows": 5
       }
      },
      "text/html": [
       "<div>\n",
       "<style scoped>\n",
       "    .dataframe tbody tr th:only-of-type {\n",
       "        vertical-align: middle;\n",
       "    }\n",
       "\n",
       "    .dataframe tbody tr th {\n",
       "        vertical-align: top;\n",
       "    }\n",
       "\n",
       "    .dataframe thead th {\n",
       "        text-align: right;\n",
       "    }\n",
       "</style>\n",
       "<table border=\"1\" class=\"dataframe\">\n",
       "  <thead>\n",
       "    <tr style=\"text-align: right;\">\n",
       "      <th></th>\n",
       "      <th>idRecorrido</th>\n",
       "      <th>duracionRecorrido</th>\n",
       "      <th>fechaOrigenRecorrido</th>\n",
       "      <th>idEstacionOrigen</th>\n",
       "      <th>nombreEstacionOrigen</th>\n",
       "      <th>direccionEstacionOrigen</th>\n",
       "      <th>longEstacionOrigen</th>\n",
       "      <th>latEstacionOrigen</th>\n",
       "      <th>fechaDestinoRecorrido</th>\n",
       "      <th>idEstacionDestino</th>\n",
       "      <th>...</th>\n",
       "      <th>latEstacionDestino</th>\n",
       "      <th>idUsuario</th>\n",
       "      <th>modeloBicicleta</th>\n",
       "      <th>genero</th>\n",
       "      <th>generoUsuario</th>\n",
       "      <th>edadUsuario</th>\n",
       "      <th>fechaAlta</th>\n",
       "      <th>horaAlta</th>\n",
       "      <th>duracion_horas_minutos</th>\n",
       "      <th>duracion_viaje_minutos</th>\n",
       "    </tr>\n",
       "  </thead>\n",
       "  <tbody>\n",
       "    <tr>\n",
       "      <th>0</th>\n",
       "      <td>22751201</td>\n",
       "      <td>2</td>\n",
       "      <td>2024-08-24 12:37:54</td>\n",
       "      <td>548</td>\n",
       "      <td>051 - PLAZA SUDAMERICA</td>\n",
       "      <td>Av. Piedrabuena 4901</td>\n",
       "      <td>-58.475178</td>\n",
       "      <td>-34.687767</td>\n",
       "      <td>2024-08-24 12:37:56</td>\n",
       "      <td>548</td>\n",
       "      <td>...</td>\n",
       "      <td>-34.687767</td>\n",
       "      <td>1195811.0</td>\n",
       "      <td>ICONIC</td>\n",
       "      <td>MALE</td>\n",
       "      <td>MALE</td>\n",
       "      <td>44.0</td>\n",
       "      <td>2024-08-24</td>\n",
       "      <td>12:32:34</td>\n",
       "      <td>0h 2m</td>\n",
       "      <td>0h 2m</td>\n",
       "    </tr>\n",
       "    <tr>\n",
       "      <th>1</th>\n",
       "      <td>22526638</td>\n",
       "      <td>1350</td>\n",
       "      <td>2024-08-02 01:29:21</td>\n",
       "      <td>46</td>\n",
       "      <td>046 - Chile</td>\n",
       "      <td>Perú 718</td>\n",
       "      <td>-58.374370</td>\n",
       "      <td>-34.616373</td>\n",
       "      <td>2024-08-02 01:51:51</td>\n",
       "      <td>223</td>\n",
       "      <td>...</td>\n",
       "      <td>-34.623400</td>\n",
       "      <td>1126622.0</td>\n",
       "      <td>FIT</td>\n",
       "      <td>FEMALE</td>\n",
       "      <td>FEMALE</td>\n",
       "      <td>22.0</td>\n",
       "      <td>2024-03-11</td>\n",
       "      <td>00:53:54</td>\n",
       "      <td>22h 30m</td>\n",
       "      <td>22h 30m</td>\n",
       "    </tr>\n",
       "    <tr>\n",
       "      <th>2</th>\n",
       "      <td>22527526</td>\n",
       "      <td>1398</td>\n",
       "      <td>2024-08-02 07:26:40</td>\n",
       "      <td>408</td>\n",
       "      <td>364 - CERRETTI Y MANUELA PEDRAZA</td>\n",
       "      <td>Ceretti 3407</td>\n",
       "      <td>-58.500250</td>\n",
       "      <td>-34.569120</td>\n",
       "      <td>2024-08-02 07:49:58</td>\n",
       "      <td>513</td>\n",
       "      <td>...</td>\n",
       "      <td>-34.597130</td>\n",
       "      <td>569548.0</td>\n",
       "      <td>FIT</td>\n",
       "      <td>MALE</td>\n",
       "      <td>NaN</td>\n",
       "      <td>NaN</td>\n",
       "      <td>NaN</td>\n",
       "      <td>NaN</td>\n",
       "      <td>23h 18m</td>\n",
       "      <td>23h 18m</td>\n",
       "    </tr>\n",
       "    <tr>\n",
       "      <th>3</th>\n",
       "      <td>22517654</td>\n",
       "      <td>491</td>\n",
       "      <td>2024-08-01 12:51:39</td>\n",
       "      <td>368</td>\n",
       "      <td>378 - AGRONOMIA</td>\n",
       "      <td>4351 San Martin</td>\n",
       "      <td>-58.482079</td>\n",
       "      <td>-34.598070</td>\n",
       "      <td>2024-08-01 12:59:50</td>\n",
       "      <td>241</td>\n",
       "      <td>...</td>\n",
       "      <td>-34.600874</td>\n",
       "      <td>569548.0</td>\n",
       "      <td>ICONIC</td>\n",
       "      <td>MALE</td>\n",
       "      <td>NaN</td>\n",
       "      <td>NaN</td>\n",
       "      <td>NaN</td>\n",
       "      <td>NaN</td>\n",
       "      <td>8h 11m</td>\n",
       "      <td>8h 11m</td>\n",
       "    </tr>\n",
       "    <tr>\n",
       "      <th>4</th>\n",
       "      <td>22524071</td>\n",
       "      <td>1642</td>\n",
       "      <td>2024-08-01 19:12:28</td>\n",
       "      <td>385</td>\n",
       "      <td>268 - Plaza Aristóbulo Del Valle</td>\n",
       "      <td>Campana &amp; Marcos Sastre</td>\n",
       "      <td>-58.493141</td>\n",
       "      <td>-34.606160</td>\n",
       "      <td>2024-08-01 19:39:50</td>\n",
       "      <td>408</td>\n",
       "      <td>...</td>\n",
       "      <td>-34.569120</td>\n",
       "      <td>569548.0</td>\n",
       "      <td>FIT</td>\n",
       "      <td>MALE</td>\n",
       "      <td>NaN</td>\n",
       "      <td>NaN</td>\n",
       "      <td>NaN</td>\n",
       "      <td>NaN</td>\n",
       "      <td>27h 22m</td>\n",
       "      <td>27h 22m</td>\n",
       "    </tr>\n",
       "  </tbody>\n",
       "</table>\n",
       "<p>5 rows × 23 columns</p>\n",
       "</div>"
      ],
      "text/plain": [
       "   idRecorrido  duracionRecorrido fechaOrigenRecorrido  idEstacionOrigen  \\\n",
       "0     22751201                  2  2024-08-24 12:37:54               548   \n",
       "1     22526638               1350  2024-08-02 01:29:21                46   \n",
       "2     22527526               1398  2024-08-02 07:26:40               408   \n",
       "3     22517654                491  2024-08-01 12:51:39               368   \n",
       "4     22524071               1642  2024-08-01 19:12:28               385   \n",
       "\n",
       "               nombreEstacionOrigen    direccionEstacionOrigen  \\\n",
       "0            051 - PLAZA SUDAMERICA       Av. Piedrabuena 4901   \n",
       "1                       046 - Chile                   Perú 718   \n",
       "2  364 - CERRETTI Y MANUELA PEDRAZA               Ceretti 3407   \n",
       "3                   378 - AGRONOMIA            4351 San Martin   \n",
       "4  268 - Plaza Aristóbulo Del Valle  Campana & Marcos Sastre     \n",
       "\n",
       "   longEstacionOrigen  latEstacionOrigen fechaDestinoRecorrido  \\\n",
       "0          -58.475178         -34.687767   2024-08-24 12:37:56   \n",
       "1          -58.374370         -34.616373   2024-08-02 01:51:51   \n",
       "2          -58.500250         -34.569120   2024-08-02 07:49:58   \n",
       "3          -58.482079         -34.598070   2024-08-01 12:59:50   \n",
       "4          -58.493141         -34.606160   2024-08-01 19:39:50   \n",
       "\n",
       "   idEstacionDestino  ... latEstacionDestino  idUsuario  modeloBicicleta  \\\n",
       "0                548  ...         -34.687767  1195811.0           ICONIC   \n",
       "1                223  ...         -34.623400  1126622.0              FIT   \n",
       "2                513  ...         -34.597130   569548.0              FIT   \n",
       "3                241  ...         -34.600874   569548.0           ICONIC   \n",
       "4                408  ...         -34.569120   569548.0              FIT   \n",
       "\n",
       "   genero  generoUsuario edadUsuario   fechaAlta  horaAlta  \\\n",
       "0    MALE           MALE        44.0  2024-08-24  12:32:34   \n",
       "1  FEMALE         FEMALE        22.0  2024-03-11  00:53:54   \n",
       "2    MALE            NaN         NaN         NaN       NaN   \n",
       "3    MALE            NaN         NaN         NaN       NaN   \n",
       "4    MALE            NaN         NaN         NaN       NaN   \n",
       "\n",
       "   duracion_horas_minutos duracion_viaje_minutos  \n",
       "0                   0h 2m                  0h 2m  \n",
       "1                 22h 30m                22h 30m  \n",
       "2                 23h 18m                23h 18m  \n",
       "3                  8h 11m                 8h 11m  \n",
       "4                 27h 22m                27h 22m  \n",
       "\n",
       "[5 rows x 23 columns]"
      ]
     },
     "execution_count": 9,
     "metadata": {},
     "output_type": "execute_result"
    }
   ],
   "source": [
    "import pandas as pd\n",
    "import matplotlib.pyplot as plt\n",
    "\n",
    "dataRecorridosTresMeses = pd.read_csv(\"../data/processed/recorridos_usuarios_3meses.csv\")\n",
    "dataRecorridosTresMeses.head(5)"
   ]
  },
  {
   "cell_type": "markdown",
   "id": "737017ac",
   "metadata": {},
   "source": [
    "### ¿Cuál fue la cantidad total de viajes realizados por usuarios de entre 25 y 35 años durante los tres meses seleccionados?\n"
   ]
  },
  {
   "cell_type": "code",
   "execution_count": 3,
   "id": "f753bc5a",
   "metadata": {},
   "outputs": [
    {
     "name": "stdout",
     "output_type": "stream",
     "text": [
      "La cantidad total de viajes realizados por usuarios de entre 25 y 35 años es: 82464\n"
     ]
    }
   ],
   "source": [
    "usuarios_25_35 = dataRecorridosTresMeses[(dataRecorridosTresMeses['edadUsuario'] >= 25) & (dataRecorridosTresMeses['edadUsuario'] <= 35)]\n",
    "total_viajes_25_35 = len(usuarios_25_35)\n",
    "\n",
    "print(f\"La cantidad total de viajes realizados por usuarios de entre 25 y 35 años es: {total_viajes_25_35}\")"
   ]
  },
  {
   "cell_type": "markdown",
   "id": "9abe1749",
   "metadata": {},
   "source": [
    "### ¿Cuáles fueron las 5 estaciones de inicio con mayor cantidad de viajes en esos tres meses?"
   ]
  },
  {
   "cell_type": "code",
   "execution_count": 4,
   "id": "bc704c68",
   "metadata": {},
   "outputs": [
    {
     "name": "stdout",
     "output_type": "stream",
     "text": [
      "Las 5 estaciones de inicio con mayor cantidad de viajes en esos tres meses son:\n",
      "nombreEstacionOrigen\n",
      "368 - PLAZA DE LA SHOÁ       9401\n",
      "014 - Pacifico               9098\n",
      "005 - Plaza Italia           8392\n",
      "147 - Constitución           7881\n",
      "001 - FACULTAD DE DERECHO    7718\n",
      "Name: count, dtype: int64\n"
     ]
    }
   ],
   "source": [
    "top_5_estaciones_origen = dataRecorridosTresMeses['nombreEstacionOrigen'].value_counts().head(5)\n",
    "print(\"Las 5 estaciones de inicio con mayor cantidad de viajes en esos tres meses son:\")\n",
    "print(top_5_estaciones_origen)"
   ]
  },
  {
   "cell_type": "markdown",
   "id": "47b8849d",
   "metadata": {},
   "source": [
    "### Entre los usuarios frecuentes (más de 15 viajes en el período), ¿cuál es la distribución por género?"
   ]
  },
  {
   "cell_type": "code",
   "execution_count": 5,
   "id": "6febb339",
   "metadata": {},
   "outputs": [
    {
     "name": "stdout",
     "output_type": "stream",
     "text": [
      "Distribución por género entre los usuarios frecuentes:\n",
      "generoUsuario\n",
      "MALE      102597\n",
      "FEMALE     45655\n",
      "OTHER       1878\n",
      "Name: count, dtype: int64\n"
     ]
    }
   ],
   "source": [
    "# Identify frequent users (more than 15 trips)\n",
    "frequent_users = dataRecorridosTresMeses.groupby('idUsuario').filter(lambda x: len(x) > 15)\n",
    "\n",
    "# Get the gender distribution among frequent users\n",
    "gender_distribution_frequent_users = frequent_users['generoUsuario'].value_counts()\n",
    "\n",
    "print(\"Distribución por género entre los usuarios frecuentes:\")\n",
    "print(gender_distribution_frequent_users)"
   ]
  },
  {
   "cell_type": "markdown",
   "id": "f2f4cf9b",
   "metadata": {},
   "source": [
    "### Graficos"
   ]
  },
  {
   "cell_type": "code",
   "execution_count": 6,
   "id": "628b2973",
   "metadata": {},
   "outputs": [
    {
     "data": {
      "image/png": "[encoded data removed]",
      "text/plain": [
       "<Figure size 800x600 with 1 Axes>"
      ]
     },
     "metadata": {},
     "output_type": "display_data"
    }
   ],
   "source": [
    "plt.figure(figsize=(8, 6))\n",
    "plt.bar(gender_distribution_frequent_users.index, gender_distribution_frequent_users.values)\n",
    "plt.title('Distribución por Género entre Usuarios Frecuentes')\n",
    "plt.xlabel('Género')\n",
    "plt.ylabel('Cantidad de Usuarios Frecuentes')\n",
    "plt.show()"
   ]
  },
  {
   "cell_type": "code",
   "execution_count": 7,
   "id": "94513088",
   "metadata": {},
   "outputs": [
    {
     "data": {
      "image/png": "[encoded data removed]",
      "text/plain": [
       "<Figure size 1000x600 with 1 Axes>"
      ]
     },
     "metadata": {},
     "output_type": "display_data"
    }
   ],
   "source": [
    "plt.figure(figsize=(10, 6))\n",
    "top_5_estaciones_origen.plot(kind='bar', color='skyblue')\n",
    "\n",
    "plt.title('Top 5 Estaciones de Inicio con Mayor Cantidad de Viajes')\n",
    "plt.xlabel('Estación de Origen')\n",
    "plt.ylabel('Cantidad de Viajes')\n",
    "plt.xticks(rotation=45, ha='right')\n",
    "\n",
    "# Agrega el conteo en la parte superior de cada barra.\n",
    "for index, value in enumerate(top_5_estaciones_origen):\n",
    "    plt.text(index, value + 20, str(value), ha='center') \n",
    "\n",
    "plt.tight_layout()\n",
    "plt.show()"
   ]
  }
 ],
 "metadata": {
  "kernelspec": {
   "display_name": ".venv",
   "language": "python",
   "name": "python3"
  },
  "language_info": {
   "codemirror_mode": {
    "name": "ipython",
    "version": 3
   },
   "file_extension": ".py",
   "mimetype": "text/x-python",
   "name": "python",
   "nbconvert_exporter": "python",
   "pygments_lexer": "ipython3",
   "version": "3.13.5"
  }
 },
 "nbformat": 4,
 "nbformat_minor": 5
}
