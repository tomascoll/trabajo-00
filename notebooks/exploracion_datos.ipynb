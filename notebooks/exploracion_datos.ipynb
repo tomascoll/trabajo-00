{
 "cells": [
  {
   "cell_type": "code",
   "execution_count": 3,
   "id": "a3b65600",
   "metadata": {},
   "outputs": [
    {
     "name": "stdout",
     "output_type": "stream",
     "text": [
      "Collecting pandas\n",
      "  Using cached pandas-2.3.1-cp313-cp313-win_amd64.whl.metadata (19 kB)\n",
      "Collecting numpy>=1.26.0 (from pandas)\n",
      "  Using cached numpy-2.3.2-cp313-cp313-win_amd64.whl.metadata (60 kB)\n",
      "Requirement already satisfied: python-dateutil>=2.8.2 in c:\\users\\tomas\\onedrive\\desktop\\tp00\\.venv\\lib\\site-packages (from pandas) (2.9.0.post0)\n",
      "Collecting pytz>=2020.1 (from pandas)\n",
      "  Using cached pytz-2025.2-py2.py3-none-any.whl.metadata (22 kB)\n",
      "Collecting tzdata>=2022.7 (from pandas)\n",
      "  Using cached tzdata-2025.2-py2.py3-none-any.whl.metadata (1.4 kB)\n",
      "Requirement already satisfied: six>=1.5 in c:\\users\\tomas\\onedrive\\desktop\\tp00\\.venv\\lib\\site-packages (from python-dateutil>=2.8.2->pandas) (1.17.0)\n",
      "Using cached pandas-2.3.1-cp313-cp313-win_amd64.whl (11.0 MB)\n",
      "Using cached numpy-2.3.2-cp313-cp313-win_amd64.whl (12.8 MB)\n",
      "Using cached pytz-2025.2-py2.py3-none-any.whl (509 kB)\n",
      "Using cached tzdata-2025.2-py2.py3-none-any.whl (347 kB)\n",
      "Installing collected packages: pytz, tzdata, numpy, pandas\n",
      "\n",
      "   ---------------------------------------- 0/4 [pytz]\n",
      "   ---------------------------------------- 0/4 [pytz]\n",
      "   ---------------------------------------- 0/4 [pytz]\n",
      "   ---------- ----------------------------- 1/4 [tzdata]\n",
      "   ---------- ----------------------------- 1/4 [tzdata]\n",
      "   ---------- ----------------------------- 1/4 [tzdata]\n",
      "   -------------------- ------------------- 2/4 [numpy]\n",
      "   -------------------- ------------------- 2/4 [numpy]\n",
      "   -------------------- ------------------- 2/4 [numpy]\n",
      "   -------------------- ------------------- 2/4 [numpy]\n",
      "   -------------------- ------------------- 2/4 [numpy]\n",
      "   -------------------- ------------------- 2/4 [numpy]\n",
      "   -------------------- ------------------- 2/4 [numpy]\n",
      "   -------------------- ------------------- 2/4 [numpy]\n",
      "   -------------------- ------------------- 2/4 [numpy]\n",
      "   -------------------- ------------------- 2/4 [numpy]\n",
      "   -------------------- ------------------- 2/4 [numpy]\n",
      "   -------------------- ------------------- 2/4 [numpy]\n",
      "   -------------------- ------------------- 2/4 [numpy]\n",
      "   -------------------- ------------------- 2/4 [numpy]\n",
      "   -------------------- ------------------- 2/4 [numpy]\n",
      "   -------------------- ------------------- 2/4 [numpy]\n",
      "   -------------------- ------------------- 2/4 [numpy]\n",
      "   -------------------- ------------------- 2/4 [numpy]\n",
      "   -------------------- ------------------- 2/4 [numpy]\n",
      "   -------------------- ------------------- 2/4 [numpy]\n",
      "   -------------------- ------------------- 2/4 [numpy]\n",
      "   -------------------- ------------------- 2/4 [numpy]\n",
      "   -------------------- ------------------- 2/4 [numpy]\n",
      "   -------------------- ------------------- 2/4 [numpy]\n",
      "   -------------------- ------------------- 2/4 [numpy]\n",
      "   -------------------- ------------------- 2/4 [numpy]\n",
      "   -------------------- ------------------- 2/4 [numpy]\n",
      "   -------------------- ------------------- 2/4 [numpy]\n",
      "   -------------------- ------------------- 2/4 [numpy]\n",
      "   -------------------- ------------------- 2/4 [numpy]\n",
      "   -------------------- ------------------- 2/4 [numpy]\n",
      "   -------------------- ------------------- 2/4 [numpy]\n",
      "   -------------------- ------------------- 2/4 [numpy]\n",
      "   -------------------- ------------------- 2/4 [numpy]\n",
      "   -------------------- ------------------- 2/4 [numpy]\n",
      "   -------------------- ------------------- 2/4 [numpy]\n",
      "   -------------------- ------------------- 2/4 [numpy]\n",
      "   -------------------- ------------------- 2/4 [numpy]\n",
      "   ------------------------------ --------- 3/4 [pandas]\n",
      "   ------------------------------ --------- 3/4 [pandas]\n",
      "   ------------------------------ --------- 3/4 [pandas]\n",
      "   ------------------------------ --------- 3/4 [pandas]\n",
      "   ------------------------------ --------- 3/4 [pandas]\n",
      "   ------------------------------ --------- 3/4 [pandas]\n",
      "   ------------------------------ --------- 3/4 [pandas]\n",
      "   ------------------------------ --------- 3/4 [pandas]\n",
      "   ------------------------------ --------- 3/4 [pandas]\n",
      "   ------------------------------ --------- 3/4 [pandas]\n",
      "   ------------------------------ --------- 3/4 [pandas]\n",
      "   ------------------------------ --------- 3/4 [pandas]\n",
      "   ------------------------------ --------- 3/4 [pandas]\n",
      "   ------------------------------ --------- 3/4 [pandas]\n",
      "   ------------------------------ --------- 3/4 [pandas]\n",
      "   ------------------------------ --------- 3/4 [pandas]\n",
      "   ------------------------------ --------- 3/4 [pandas]\n",
      "   ------------------------------ --------- 3/4 [pandas]\n",
      "   ------------------------------ --------- 3/4 [pandas]\n",
      "   ------------------------------ --------- 3/4 [pandas]\n",
      "   ------------------------------ --------- 3/4 [pandas]\n",
      "   ------------------------------ --------- 3/4 [pandas]\n",
      "   ------------------------------ --------- 3/4 [pandas]\n",
      "   ------------------------------ --------- 3/4 [pandas]\n",
      "   ------------------------------ --------- 3/4 [pandas]\n",
      "   ------------------------------ --------- 3/4 [pandas]\n",
      "   ------------------------------ --------- 3/4 [pandas]\n",
      "   ------------------------------ --------- 3/4 [pandas]\n",
      "   ------------------------------ --------- 3/4 [pandas]\n",
      "   ------------------------------ --------- 3/4 [pandas]\n",
      "   ------------------------------ --------- 3/4 [pandas]\n",
      "   ------------------------------ --------- 3/4 [pandas]\n",
      "   ------------------------------ --------- 3/4 [pandas]\n",
      "   ------------------------------ --------- 3/4 [pandas]\n",
      "   ------------------------------ --------- 3/4 [pandas]\n",
      "   ------------------------------ --------- 3/4 [pandas]\n",
      "   ------------------------------ --------- 3/4 [pandas]\n",
      "   ------------------------------ --------- 3/4 [pandas]\n",
      "   ------------------------------ --------- 3/4 [pandas]\n",
      "   ------------------------------ --------- 3/4 [pandas]\n",
      "   ------------------------------ --------- 3/4 [pandas]\n",
      "   ------------------------------ --------- 3/4 [pandas]\n",
      "   ------------------------------ --------- 3/4 [pandas]\n",
      "   ------------------------------ --------- 3/4 [pandas]\n",
      "   ------------------------------ --------- 3/4 [pandas]\n",
      "   ------------------------------ --------- 3/4 [pandas]\n",
      "   ------------------------------ --------- 3/4 [pandas]\n",
      "   ------------------------------ --------- 3/4 [pandas]\n",
      "   ------------------------------ --------- 3/4 [pandas]\n",
      "   ------------------------------ --------- 3/4 [pandas]\n",
      "   ------------------------------ --------- 3/4 [pandas]\n",
      "   ------------------------------ --------- 3/4 [pandas]\n",
      "   ------------------------------ --------- 3/4 [pandas]\n",
      "   ------------------------------ --------- 3/4 [pandas]\n",
      "   ------------------------------ --------- 3/4 [pandas]\n",
      "   ------------------------------ --------- 3/4 [pandas]\n",
      "   ------------------------------ --------- 3/4 [pandas]\n",
      "   ------------------------------ --------- 3/4 [pandas]\n",
      "   ------------------------------ --------- 3/4 [pandas]\n",
      "   ------------------------------ --------- 3/4 [pandas]\n",
      "   ------------------------------ --------- 3/4 [pandas]\n",
      "   ------------------------------ --------- 3/4 [pandas]\n",
      "   ------------------------------ --------- 3/4 [pandas]\n",
      "   ------------------------------ --------- 3/4 [pandas]\n",
      "   ------------------------------ --------- 3/4 [pandas]\n",
      "   ------------------------------ --------- 3/4 [pandas]\n",
      "   ------------------------------ --------- 3/4 [pandas]\n",
      "   ------------------------------ --------- 3/4 [pandas]\n",
      "   ------------------------------ --------- 3/4 [pandas]\n",
      "   ------------------------------ --------- 3/4 [pandas]\n",
      "   ------------------------------ --------- 3/4 [pandas]\n",
      "   ------------------------------ --------- 3/4 [pandas]\n",
      "   ------------------------------ --------- 3/4 [pandas]\n",
      "   ------------------------------ --------- 3/4 [pandas]\n",
      "   ------------------------------ --------- 3/4 [pandas]\n",
      "   ------------------------------ --------- 3/4 [pandas]\n",
      "   ------------------------------ --------- 3/4 [pandas]\n",
      "   ------------------------------ --------- 3/4 [pandas]\n",
      "   ------------------------------ --------- 3/4 [pandas]\n",
      "   ------------------------------ --------- 3/4 [pandas]\n",
      "   ------------------------------ --------- 3/4 [pandas]\n",
      "   ------------------------------ --------- 3/4 [pandas]\n",
      "   ------------------------------ --------- 3/4 [pandas]\n",
      "   ------------------------------ --------- 3/4 [pandas]\n",
      "   ------------------------------ --------- 3/4 [pandas]\n",
      "   ------------------------------ --------- 3/4 [pandas]\n",
      "   ------------------------------ --------- 3/4 [pandas]\n",
      "   ------------------------------ --------- 3/4 [pandas]\n",
      "   ------------------------------ --------- 3/4 [pandas]\n",
      "   ------------------------------ --------- 3/4 [pandas]\n",
      "   ------------------------------ --------- 3/4 [pandas]\n",
      "   ------------------------------ --------- 3/4 [pandas]\n",
      "   ------------------------------ --------- 3/4 [pandas]\n",
      "   ------------------------------ --------- 3/4 [pandas]\n",
      "   ------------------------------ --------- 3/4 [pandas]\n",
      "   ------------------------------ --------- 3/4 [pandas]\n",
      "   ------------------------------ --------- 3/4 [pandas]\n",
      "   ------------------------------ --------- 3/4 [pandas]\n",
      "   ------------------------------ --------- 3/4 [pandas]\n",
      "   ------------------------------ --------- 3/4 [pandas]\n",
      "   ------------------------------ --------- 3/4 [pandas]\n",
      "   ------------------------------ --------- 3/4 [pandas]\n",
      "   ------------------------------ --------- 3/4 [pandas]\n",
      "   ------------------------------ --------- 3/4 [pandas]\n",
      "   ------------------------------ --------- 3/4 [pandas]\n",
      "   ------------------------------ --------- 3/4 [pandas]\n",
      "   ------------------------------ --------- 3/4 [pandas]\n",
      "   ------------------------------ --------- 3/4 [pandas]\n",
      "   ------------------------------ --------- 3/4 [pandas]\n",
      "   ------------------------------ --------- 3/4 [pandas]\n",
      "   ------------------------------ --------- 3/4 [pandas]\n",
      "   ------------------------------ --------- 3/4 [pandas]\n",
      "   ------------------------------ --------- 3/4 [pandas]\n",
      "   ------------------------------ --------- 3/4 [pandas]\n",
      "   ------------------------------ --------- 3/4 [pandas]\n",
      "   ------------------------------ --------- 3/4 [pandas]\n",
      "   ------------------------------ --------- 3/4 [pandas]\n",
      "   ------------------------------ --------- 3/4 [pandas]\n",
      "   ------------------------------ --------- 3/4 [pandas]\n",
      "   ------------------------------ --------- 3/4 [pandas]\n",
      "   ---------------------------------------- 4/4 [pandas]\n",
      "\n",
      "Successfully installed numpy-2.3.2 pandas-2.3.1 pytz-2025.2 tzdata-2025.2\n"
     ]
    }
   ],
   "source": [
    "!pip install pandas"
   ]
  },
  {
   "cell_type": "markdown",
   "id": "7c0ce75f",
   "metadata": {},
   "source": [
    "## Exploración de datos"
   ]
  },
  {
   "cell_type": "code",
   "execution_count": 1,
   "id": "4e36bb33",
   "metadata": {},
   "outputs": [],
   "source": [
    "import pandas as pd"
   ]
  },
  {
   "cell_type": "code",
   "execution_count": 2,
   "id": "3135c468",
   "metadata": {},
   "outputs": [],
   "source": [
    "dataRecorridos = pd.read_csv(\"../data/raw/badata_ecobici_recorridos_realizados_2024.csv\")\n",
    "dataUsuarios = pd.read_csv(\"../data/raw/usuarios_ecobici_2024.csv\")"
   ]
  },
  {
   "cell_type": "code",
   "execution_count": 3,
   "id": "4b9bfe14",
   "metadata": {},
   "outputs": [
    {
     "data": {
      "application/vnd.microsoft.datawrangler.viewer.v0+json": {
       "columns": [
        {
         "name": "index",
         "rawType": "int64",
         "type": "integer"
        },
        {
         "name": "id_recorrido",
         "rawType": "int64",
         "type": "integer"
        },
        {
         "name": "duracion_recorrido",
         "rawType": "int64",
         "type": "integer"
        },
        {
         "name": "fecha_origen_recorrido",
         "rawType": "object",
         "type": "string"
        },
        {
         "name": "id_estacion_origen",
         "rawType": "int64",
         "type": "integer"
        },
        {
         "name": "nombre_estacion_origen",
         "rawType": "object",
         "type": "string"
        },
        {
         "name": "direccion_estacion_origen",
         "rawType": "object",
         "type": "string"
        },
        {
         "name": "long_estacion_origen",
         "rawType": "float64",
         "type": "float"
        },
        {
         "name": "lat_estacion_origen",
         "rawType": "float64",
         "type": "float"
        },
        {
         "name": "fecha_destino_recorrido",
         "rawType": "object",
         "type": "string"
        },
        {
         "name": "id_estacion_destino",
         "rawType": "int64",
         "type": "integer"
        },
        {
         "name": "nombre_estacion_destino",
         "rawType": "object",
         "type": "string"
        },
        {
         "name": "direccion_estacion_destino",
         "rawType": "object",
         "type": "string"
        },
        {
         "name": "long_estacion_destino",
         "rawType": "float64",
         "type": "float"
        },
        {
         "name": "lat_estacion_destino",
         "rawType": "float64",
         "type": "float"
        },
        {
         "name": "id_usuario",
         "rawType": "float64",
         "type": "float"
        },
        {
         "name": "modelo_bicicleta",
         "rawType": "object",
         "type": "string"
        },
        {
         "name": "genero",
         "rawType": "object",
         "type": "string"
        }
       ],
       "ref": "02369355-2c79-451a-94d1-9559eef5344e",
       "rows": [
        [
         "0",
         "20428222",
         "568",
         "2024-01-23 18:36:00",
         "513",
         "308 - SAN MARTIN II",
         "Av. San Martín 5129",
         "-58.490739000000005",
         "-34.5971297",
         "2024-01-23 18:45:28",
         "498",
         "055 - HABANA",
         "Gral. José Gervasio Artigas 4298 (y Habana)",
         "-58.49495850000001",
         "-34.5865976",
         "992557.0",
         "FIT",
         "MALE"
        ],
        [
         "1",
         "20431744",
         "1355",
         "2024-01-23 22:41:20",
         "460",
         "133 - BEIRO Y SEGUROLA",
         "Segurola 3194",
         "-58.51193000000001",
         "-34.6075",
         "2024-01-23 23:03:55",
         "382",
         "204 - Biarritz",
         "Biarritz 2403",
         "-58.47725521899702",
         "-34.60543081369964",
         "320782.0",
         "FIT",
         "FEMALE"
        ],
        [
         "2",
         "20429936",
         "0",
         "2024-01-23 20:06:22",
         "467",
         "328 - SARMIENTO II",
         "Sarmiento 2037",
         "-58.3958925",
         "-34.6055135",
         "2024-01-23 20:06:22",
         "6",
         "006 - Parque Lezama",
         "Avenida Martin Garcia, 295",
         "-58.369758",
         "-34.628526",
         "828678.0",
         "FIT",
         "FEMALE"
        ],
        [
         "3",
         "20429976",
         "0",
         "2024-01-23 20:08:17",
         "382",
         "204 - Biarritz",
         "Biarritz 2403",
         "-58.47725521899702",
         "-34.60543081369964",
         "2024-01-23 20:08:17",
         "460",
         "133 - BEIRO Y SEGUROLA",
         "Segurola 3194",
         "-58.51193000000001",
         "-34.6075",
         "320782.0",
         "ICONIC",
         "FEMALE"
        ],
        [
         "4",
         "20424802",
         "680",
         "2024-01-23 15:18:39",
         "137",
         "137 - AZOPARDO Y CHILE",
         "AZOPARDO 700",
         "-58.3674923",
         "-34.6155977",
         "2024-01-23 15:29:59",
         "150",
         "150 - RODRIGO BUENO",
         "Av. España 2200",
         "-58.3554654",
         "-34.6187547",
         "861425.0",
         "FIT",
         "FEMALE"
        ]
       ],
       "shape": {
        "columns": 17,
        "rows": 5
       }
      },
      "text/html": [
       "<div>\n",
       "<style scoped>\n",
       "    .dataframe tbody tr th:only-of-type {\n",
       "        vertical-align: middle;\n",
       "    }\n",
       "\n",
       "    .dataframe tbody tr th {\n",
       "        vertical-align: top;\n",
       "    }\n",
       "\n",
       "    .dataframe thead th {\n",
       "        text-align: right;\n",
       "    }\n",
       "</style>\n",
       "<table border=\"1\" class=\"dataframe\">\n",
       "  <thead>\n",
       "    <tr style=\"text-align: right;\">\n",
       "      <th></th>\n",
       "      <th>id_recorrido</th>\n",
       "      <th>duracion_recorrido</th>\n",
       "      <th>fecha_origen_recorrido</th>\n",
       "      <th>id_estacion_origen</th>\n",
       "      <th>nombre_estacion_origen</th>\n",
       "      <th>direccion_estacion_origen</th>\n",
       "      <th>long_estacion_origen</th>\n",
       "      <th>lat_estacion_origen</th>\n",
       "      <th>fecha_destino_recorrido</th>\n",
       "      <th>id_estacion_destino</th>\n",
       "      <th>nombre_estacion_destino</th>\n",
       "      <th>direccion_estacion_destino</th>\n",
       "      <th>long_estacion_destino</th>\n",
       "      <th>lat_estacion_destino</th>\n",
       "      <th>id_usuario</th>\n",
       "      <th>modelo_bicicleta</th>\n",
       "      <th>genero</th>\n",
       "    </tr>\n",
       "  </thead>\n",
       "  <tbody>\n",
       "    <tr>\n",
       "      <th>0</th>\n",
       "      <td>20428222</td>\n",
       "      <td>568</td>\n",
       "      <td>2024-01-23 18:36:00</td>\n",
       "      <td>513</td>\n",
       "      <td>308 - SAN MARTIN II</td>\n",
       "      <td>Av. San Martín 5129</td>\n",
       "      <td>-58.490739</td>\n",
       "      <td>-34.597130</td>\n",
       "      <td>2024-01-23 18:45:28</td>\n",
       "      <td>498</td>\n",
       "      <td>055 - HABANA</td>\n",
       "      <td>Gral. José Gervasio Artigas 4298 (y Habana)</td>\n",
       "      <td>-58.494959</td>\n",
       "      <td>-34.586598</td>\n",
       "      <td>992557.0</td>\n",
       "      <td>FIT</td>\n",
       "      <td>MALE</td>\n",
       "    </tr>\n",
       "    <tr>\n",
       "      <th>1</th>\n",
       "      <td>20431744</td>\n",
       "      <td>1355</td>\n",
       "      <td>2024-01-23 22:41:20</td>\n",
       "      <td>460</td>\n",
       "      <td>133 - BEIRO Y SEGUROLA</td>\n",
       "      <td>Segurola 3194</td>\n",
       "      <td>-58.511930</td>\n",
       "      <td>-34.607500</td>\n",
       "      <td>2024-01-23 23:03:55</td>\n",
       "      <td>382</td>\n",
       "      <td>204 - Biarritz</td>\n",
       "      <td>Biarritz 2403</td>\n",
       "      <td>-58.477255</td>\n",
       "      <td>-34.605431</td>\n",
       "      <td>320782.0</td>\n",
       "      <td>FIT</td>\n",
       "      <td>FEMALE</td>\n",
       "    </tr>\n",
       "    <tr>\n",
       "      <th>2</th>\n",
       "      <td>20429936</td>\n",
       "      <td>0</td>\n",
       "      <td>2024-01-23 20:06:22</td>\n",
       "      <td>467</td>\n",
       "      <td>328 - SARMIENTO II</td>\n",
       "      <td>Sarmiento 2037</td>\n",
       "      <td>-58.395893</td>\n",
       "      <td>-34.605514</td>\n",
       "      <td>2024-01-23 20:06:22</td>\n",
       "      <td>6</td>\n",
       "      <td>006 - Parque Lezama</td>\n",
       "      <td>Avenida Martin Garcia, 295</td>\n",
       "      <td>-58.369758</td>\n",
       "      <td>-34.628526</td>\n",
       "      <td>828678.0</td>\n",
       "      <td>FIT</td>\n",
       "      <td>FEMALE</td>\n",
       "    </tr>\n",
       "    <tr>\n",
       "      <th>3</th>\n",
       "      <td>20429976</td>\n",
       "      <td>0</td>\n",
       "      <td>2024-01-23 20:08:17</td>\n",
       "      <td>382</td>\n",
       "      <td>204 - Biarritz</td>\n",
       "      <td>Biarritz 2403</td>\n",
       "      <td>-58.477255</td>\n",
       "      <td>-34.605431</td>\n",
       "      <td>2024-01-23 20:08:17</td>\n",
       "      <td>460</td>\n",
       "      <td>133 - BEIRO Y SEGUROLA</td>\n",
       "      <td>Segurola 3194</td>\n",
       "      <td>-58.511930</td>\n",
       "      <td>-34.607500</td>\n",
       "      <td>320782.0</td>\n",
       "      <td>ICONIC</td>\n",
       "      <td>FEMALE</td>\n",
       "    </tr>\n",
       "    <tr>\n",
       "      <th>4</th>\n",
       "      <td>20424802</td>\n",
       "      <td>680</td>\n",
       "      <td>2024-01-23 15:18:39</td>\n",
       "      <td>137</td>\n",
       "      <td>137 - AZOPARDO Y CHILE</td>\n",
       "      <td>AZOPARDO 700</td>\n",
       "      <td>-58.367492</td>\n",
       "      <td>-34.615598</td>\n",
       "      <td>2024-01-23 15:29:59</td>\n",
       "      <td>150</td>\n",
       "      <td>150 - RODRIGO BUENO</td>\n",
       "      <td>Av. España 2200</td>\n",
       "      <td>-58.355465</td>\n",
       "      <td>-34.618755</td>\n",
       "      <td>861425.0</td>\n",
       "      <td>FIT</td>\n",
       "      <td>FEMALE</td>\n",
       "    </tr>\n",
       "  </tbody>\n",
       "</table>\n",
       "</div>"
      ],
      "text/plain": [
       "   id_recorrido  duracion_recorrido fecha_origen_recorrido  \\\n",
       "0      20428222                 568    2024-01-23 18:36:00   \n",
       "1      20431744                1355    2024-01-23 22:41:20   \n",
       "2      20429936                   0    2024-01-23 20:06:22   \n",
       "3      20429976                   0    2024-01-23 20:08:17   \n",
       "4      20424802                 680    2024-01-23 15:18:39   \n",
       "\n",
       "   id_estacion_origen  nombre_estacion_origen direccion_estacion_origen  \\\n",
       "0                 513     308 - SAN MARTIN II       Av. San Martín 5129   \n",
       "1                 460  133 - BEIRO Y SEGUROLA             Segurola 3194   \n",
       "2                 467      328 - SARMIENTO II            Sarmiento 2037   \n",
       "3                 382          204 - Biarritz             Biarritz 2403   \n",
       "4                 137  137 - AZOPARDO Y CHILE              AZOPARDO 700   \n",
       "\n",
       "   long_estacion_origen  lat_estacion_origen fecha_destino_recorrido  \\\n",
       "0            -58.490739           -34.597130     2024-01-23 18:45:28   \n",
       "1            -58.511930           -34.607500     2024-01-23 23:03:55   \n",
       "2            -58.395893           -34.605514     2024-01-23 20:06:22   \n",
       "3            -58.477255           -34.605431     2024-01-23 20:08:17   \n",
       "4            -58.367492           -34.615598     2024-01-23 15:29:59   \n",
       "\n",
       "   id_estacion_destino nombre_estacion_destino  \\\n",
       "0                  498            055 - HABANA   \n",
       "1                  382          204 - Biarritz   \n",
       "2                    6     006 - Parque Lezama   \n",
       "3                  460  133 - BEIRO Y SEGUROLA   \n",
       "4                  150     150 - RODRIGO BUENO   \n",
       "\n",
       "                    direccion_estacion_destino  long_estacion_destino  \\\n",
       "0  Gral. José Gervasio Artigas 4298 (y Habana)             -58.494959   \n",
       "1                                Biarritz 2403             -58.477255   \n",
       "2                   Avenida Martin Garcia, 295             -58.369758   \n",
       "3                                Segurola 3194             -58.511930   \n",
       "4                              Av. España 2200             -58.355465   \n",
       "\n",
       "   lat_estacion_destino  id_usuario modelo_bicicleta  genero  \n",
       "0            -34.586598    992557.0              FIT    MALE  \n",
       "1            -34.605431    320782.0              FIT  FEMALE  \n",
       "2            -34.628526    828678.0              FIT  FEMALE  \n",
       "3            -34.607500    320782.0           ICONIC  FEMALE  \n",
       "4            -34.618755    861425.0              FIT  FEMALE  "
      ]
     },
     "execution_count": 3,
     "metadata": {},
     "output_type": "execute_result"
    }
   ],
   "source": [
    "dataRecorridos.head(5)"
   ]
  },
  {
   "cell_type": "code",
   "execution_count": 4,
   "id": "6a5fe4cd",
   "metadata": {},
   "outputs": [
    {
     "name": "stdout",
     "output_type": "stream",
     "text": [
      "<class 'pandas.core.frame.DataFrame'>\n",
      "RangeIndex: 3559284 entries, 0 to 3559283\n",
      "Data columns (total 17 columns):\n",
      " #   Column                      Dtype  \n",
      "---  ------                      -----  \n",
      " 0   id_recorrido                int64  \n",
      " 1   duracion_recorrido          int64  \n",
      " 2   fecha_origen_recorrido      object \n",
      " 3   id_estacion_origen          int64  \n",
      " 4   nombre_estacion_origen      object \n",
      " 5   direccion_estacion_origen   object \n",
      " 6   long_estacion_origen        float64\n",
      " 7   lat_estacion_origen         float64\n",
      " 8   fecha_destino_recorrido     object \n",
      " 9   id_estacion_destino         int64  \n",
      " 10  nombre_estacion_destino     object \n",
      " 11  direccion_estacion_destino  object \n",
      " 12  long_estacion_destino       float64\n",
      " 13  lat_estacion_destino        float64\n",
      " 14  id_usuario                  float64\n",
      " 15  modelo_bicicleta            object \n",
      " 16  genero                      object \n",
      "dtypes: float64(5), int64(4), object(8)\n",
      "memory usage: 461.6+ MB\n"
     ]
    }
   ],
   "source": [
    "dataRecorridos.info()"
   ]
  },
  {
   "cell_type": "code",
   "execution_count": 5,
   "id": "4763fa03",
   "metadata": {},
   "outputs": [
    {
     "data": {
      "application/vnd.microsoft.datawrangler.viewer.v0+json": {
       "columns": [
        {
         "name": "index",
         "rawType": "object",
         "type": "string"
        },
        {
         "name": "0",
         "rawType": "int64",
         "type": "integer"
        }
       ],
       "ref": "49d7ce3a-18f5-4ab1-91e3-ff80952ce464",
       "rows": [
        [
         "id_recorrido",
         "0"
        ],
        [
         "duracion_recorrido",
         "0"
        ],
        [
         "fecha_origen_recorrido",
         "0"
        ],
        [
         "id_estacion_origen",
         "0"
        ],
        [
         "nombre_estacion_origen",
         "0"
        ],
        [
         "direccion_estacion_origen",
         "0"
        ],
        [
         "long_estacion_origen",
         "0"
        ],
        [
         "lat_estacion_origen",
         "0"
        ],
        [
         "fecha_destino_recorrido",
         "3379"
        ],
        [
         "id_estacion_destino",
         "0"
        ],
        [
         "nombre_estacion_destino",
         "0"
        ],
        [
         "direccion_estacion_destino",
         "0"
        ],
        [
         "long_estacion_destino",
         "0"
        ],
        [
         "lat_estacion_destino",
         "0"
        ],
        [
         "id_usuario",
         "0"
        ],
        [
         "modelo_bicicleta",
         "0"
        ],
        [
         "genero",
         "11946"
        ]
       ],
       "shape": {
        "columns": 1,
        "rows": 17
       }
      },
      "text/plain": [
       "id_recorrido                      0\n",
       "duracion_recorrido                0\n",
       "fecha_origen_recorrido            0\n",
       "id_estacion_origen                0\n",
       "nombre_estacion_origen            0\n",
       "direccion_estacion_origen         0\n",
       "long_estacion_origen              0\n",
       "lat_estacion_origen               0\n",
       "fecha_destino_recorrido        3379\n",
       "id_estacion_destino               0\n",
       "nombre_estacion_destino           0\n",
       "direccion_estacion_destino        0\n",
       "long_estacion_destino             0\n",
       "lat_estacion_destino              0\n",
       "id_usuario                        0\n",
       "modelo_bicicleta                  0\n",
       "genero                        11946\n",
       "dtype: int64"
      ]
     },
     "execution_count": 5,
     "metadata": {},
     "output_type": "execute_result"
    }
   ],
   "source": [
    "dataRecorridos.isna().sum()"
   ]
  },
  {
   "cell_type": "code",
   "execution_count": 6,
   "id": "383a05dc",
   "metadata": {},
   "outputs": [
    {
     "data": {
      "application/vnd.microsoft.datawrangler.viewer.v0+json": {
       "columns": [
        {
         "name": "index",
         "rawType": "int64",
         "type": "integer"
        },
        {
         "name": "id_usuario",
         "rawType": "int64",
         "type": "integer"
        },
        {
         "name": "genero_usuario",
         "rawType": "object",
         "type": "string"
        },
        {
         "name": "edad_usuario",
         "rawType": "int64",
         "type": "integer"
        },
        {
         "name": "fecha_alta",
         "rawType": "object",
         "type": "string"
        },
        {
         "name": "hora_alta",
         "rawType": "object",
         "type": "string"
        }
       ],
       "ref": "3b19abc4-58b4-4296-974f-becb52b4adbd",
       "rows": [
        [
         "0",
         "1094487",
         "OTHER",
         "35",
         "2024-01-18",
         "09:21:02"
        ],
        [
         "1",
         "1097128",
         "FEMALE",
         "21",
         "2024-01-21",
         "23:02:26"
        ],
        [
         "2",
         "1102901",
         "OTHER",
         "19",
         "2024-01-29",
         "19:33:32"
        ],
        [
         "3",
         "1096100",
         "FEMALE",
         "29",
         "2024-01-20",
         "18:57:05"
        ],
        [
         "4",
         "1103049",
         "MALE",
         "21",
         "2024-01-30",
         "00:49:33"
        ]
       ],
       "shape": {
        "columns": 5,
        "rows": 5
       }
      },
      "text/html": [
       "<div>\n",
       "<style scoped>\n",
       "    .dataframe tbody tr th:only-of-type {\n",
       "        vertical-align: middle;\n",
       "    }\n",
       "\n",
       "    .dataframe tbody tr th {\n",
       "        vertical-align: top;\n",
       "    }\n",
       "\n",
       "    .dataframe thead th {\n",
       "        text-align: right;\n",
       "    }\n",
       "</style>\n",
       "<table border=\"1\" class=\"dataframe\">\n",
       "  <thead>\n",
       "    <tr style=\"text-align: right;\">\n",
       "      <th></th>\n",
       "      <th>id_usuario</th>\n",
       "      <th>genero_usuario</th>\n",
       "      <th>edad_usuario</th>\n",
       "      <th>fecha_alta</th>\n",
       "      <th>hora_alta</th>\n",
       "    </tr>\n",
       "  </thead>\n",
       "  <tbody>\n",
       "    <tr>\n",
       "      <th>0</th>\n",
       "      <td>1094487</td>\n",
       "      <td>OTHER</td>\n",
       "      <td>35</td>\n",
       "      <td>2024-01-18</td>\n",
       "      <td>09:21:02</td>\n",
       "    </tr>\n",
       "    <tr>\n",
       "      <th>1</th>\n",
       "      <td>1097128</td>\n",
       "      <td>FEMALE</td>\n",
       "      <td>21</td>\n",
       "      <td>2024-01-21</td>\n",
       "      <td>23:02:26</td>\n",
       "    </tr>\n",
       "    <tr>\n",
       "      <th>2</th>\n",
       "      <td>1102901</td>\n",
       "      <td>OTHER</td>\n",
       "      <td>19</td>\n",
       "      <td>2024-01-29</td>\n",
       "      <td>19:33:32</td>\n",
       "    </tr>\n",
       "    <tr>\n",
       "      <th>3</th>\n",
       "      <td>1096100</td>\n",
       "      <td>FEMALE</td>\n",
       "      <td>29</td>\n",
       "      <td>2024-01-20</td>\n",
       "      <td>18:57:05</td>\n",
       "    </tr>\n",
       "    <tr>\n",
       "      <th>4</th>\n",
       "      <td>1103049</td>\n",
       "      <td>MALE</td>\n",
       "      <td>21</td>\n",
       "      <td>2024-01-30</td>\n",
       "      <td>00:49:33</td>\n",
       "    </tr>\n",
       "  </tbody>\n",
       "</table>\n",
       "</div>"
      ],
      "text/plain": [
       "   id_usuario genero_usuario  edad_usuario  fecha_alta hora_alta\n",
       "0     1094487          OTHER            35  2024-01-18  09:21:02\n",
       "1     1097128         FEMALE            21  2024-01-21  23:02:26\n",
       "2     1102901          OTHER            19  2024-01-29  19:33:32\n",
       "3     1096100         FEMALE            29  2024-01-20  18:57:05\n",
       "4     1103049           MALE            21  2024-01-30  00:49:33"
      ]
     },
     "execution_count": 6,
     "metadata": {},
     "output_type": "execute_result"
    }
   ],
   "source": [
    "dataUsuarios.head(5)"
   ]
  },
  {
   "cell_type": "code",
   "execution_count": 7,
   "id": "7c71594a",
   "metadata": {},
   "outputs": [
    {
     "name": "stdout",
     "output_type": "stream",
     "text": [
      "<class 'pandas.core.frame.DataFrame'>\n",
      "RangeIndex: 197077 entries, 0 to 197076\n",
      "Data columns (total 5 columns):\n",
      " #   Column          Non-Null Count   Dtype \n",
      "---  ------          --------------   ----- \n",
      " 0   id_usuario      197077 non-null  int64 \n",
      " 1   genero_usuario  197077 non-null  object\n",
      " 2   edad_usuario    197077 non-null  int64 \n",
      " 3   fecha_alta      197077 non-null  object\n",
      " 4   hora_alta       197077 non-null  object\n",
      "dtypes: int64(2), object(3)\n",
      "memory usage: 7.5+ MB\n"
     ]
    }
   ],
   "source": [
    "dataUsuarios.info()"
   ]
  },
  {
   "cell_type": "code",
   "execution_count": 8,
   "id": "2738578e",
   "metadata": {},
   "outputs": [
    {
     "data": {
      "application/vnd.microsoft.datawrangler.viewer.v0+json": {
       "columns": [
        {
         "name": "index",
         "rawType": "object",
         "type": "string"
        },
        {
         "name": "0",
         "rawType": "int64",
         "type": "integer"
        }
       ],
       "ref": "c2893cbd-ae4b-4a38-8a06-f6e3c6304053",
       "rows": [
        [
         "id_usuario",
         "0"
        ],
        [
         "genero_usuario",
         "0"
        ],
        [
         "edad_usuario",
         "0"
        ],
        [
         "fecha_alta",
         "0"
        ],
        [
         "hora_alta",
         "0"
        ]
       ],
       "shape": {
        "columns": 1,
        "rows": 5
       }
      },
      "text/plain": [
       "id_usuario        0\n",
       "genero_usuario    0\n",
       "edad_usuario      0\n",
       "fecha_alta        0\n",
       "hora_alta         0\n",
       "dtype: int64"
      ]
     },
     "execution_count": 8,
     "metadata": {},
     "output_type": "execute_result"
    }
   ],
   "source": [
    "dataUsuarios.isna().sum()"
   ]
  }
 ],
 "metadata": {
  "kernelspec": {
   "display_name": ".venv",
   "language": "python",
   "name": "python3"
  },
  "language_info": {
   "codemirror_mode": {
    "name": "ipython",
    "version": 3
   },
   "file_extension": ".py",
   "mimetype": "text/x-python",
   "name": "python",
   "nbconvert_exporter": "python",
   "pygments_lexer": "ipython3",
   "version": "3.13.5"
  }
 },
 "nbformat": 4,
 "nbformat_minor": 5
}
